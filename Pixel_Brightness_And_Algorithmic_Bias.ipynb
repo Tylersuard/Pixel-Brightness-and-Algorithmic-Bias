{
  "nbformat": 4,
  "nbformat_minor": 0,
  "metadata": {
    "accelerator": "GPU",
    "colab": {
      "name": "The Difference In Average Pixel Brightness For Black Faces May Account For Algorithmic Bias in Computer Vision Models",
      "provenance": [],
      "collapsed_sections": [],
      "machine_shape": "hm"
    },
    "kernelspec": {
      "display_name": "Python 3",
      "name": "python3"
    }
  },
  "cells": [
    {
      "cell_type": "code",
      "metadata": {
        "id": "l4yEn-8D61ZC",
        "colab": {
          "base_uri": "https://localhost:8080/"
        },
        "outputId": "b3a10d41-d36a-4ed4-9f37-5387e15224d5"
      },
      "source": [
        "!pip install --upgrade pillow"
      ],
      "execution_count": null,
      "outputs": [
        {
          "output_type": "stream",
          "name": "stdout",
          "text": [
            "Requirement already satisfied: pillow in /usr/local/lib/python3.7/dist-packages (8.3.2)\n"
          ]
        }
      ]
    },
    {
      "cell_type": "markdown",
      "metadata": {
        "id": "a062ofLVnFHj"
      },
      "source": [
        "#Restart after running the above cell."
      ]
    },
    {
      "cell_type": "code",
      "metadata": {
        "id": "uJukDg8hCIKY",
        "colab": {
          "base_uri": "https://localhost:8080/"
        },
        "outputId": "189b6d1c-f29b-4a39-a5f0-9bf71512828b"
      },
      "source": [
        "!gdown https://drive.google.com/uc?id=0BxYys69jI14kYVM3aVhKS1VhRUk"
      ],
      "execution_count": null,
      "outputs": [
        {
          "output_type": "stream",
          "name": "stdout",
          "text": [
            "Downloading...\n",
            "From: https://drive.google.com/uc?id=0BxYys69jI14kYVM3aVhKS1VhRUk\n",
            "To: /content/UTKFace.tar.gz\n",
            "107MB [00:01, 100MB/s]  \n"
          ]
        }
      ]
    },
    {
      "cell_type": "code",
      "metadata": {
        "id": "X9-L3LfqCIpU"
      },
      "source": [
        "!tar -xzvf UTKFace.tar.gz"
      ],
      "execution_count": null,
      "outputs": []
    },
    {
      "cell_type": "code",
      "metadata": {
        "id": "j7Yr1GEf6EPF"
      },
      "source": [
        "#There are too many images of Caucasian people in this dataset.  We need to reduce the number so the training will not be biased.\n",
        "import os\n",
        "import random\n",
        "directory = \"/content/UTKFace/\"\n",
        "\n",
        "white_images = []\n",
        "removed = 0\n",
        "\n",
        "for file in os.listdir(directory):\n",
        "\n",
        "    if str(file)[-32] == '0':\n",
        "      white_images.append(file)\n",
        "\n",
        "print(white_images)\n",
        "\n",
        "for i in range(10076):\n",
        "  try:\n",
        "    remove_idx = random.randint(0,len(white_images))\n",
        "    print(remove_idx)\n",
        "    img_to_remove = white_images[remove_idx]\n",
        "    print(img_to_remove)\n",
        "    os.remove(directory+img_to_remove)\n",
        "    removed+=1\n",
        "    print(\"removed: \",removed)\n",
        "  except:\n",
        "    pass"
      ],
      "execution_count": null,
      "outputs": []
    },
    {
      "cell_type": "code",
      "metadata": {
        "id": "hgfaB9RR4fzC"
      },
      "source": [
        "#This code converts all images to greyscale for averaging.\n",
        "import os\n",
        "import cv2\n",
        "from google.colab.patches import cv2_imshow\n",
        "\n",
        "directory = '/content/UTKFace/'\n",
        "\n",
        "for file in os.listdir(directory):\n",
        "  print(file)\n",
        "\n",
        "  image = cv2.imread(\"/content/UTKFace/\" + file)\n",
        "  image_grey = cv2.cvtColor(image, cv2.COLOR_BGR2GRAY)\n",
        "  cv2.imwrite(\"/content/UTKFace/\" + file, image_grey)"
      ],
      "execution_count": null,
      "outputs": []
    },
    {
      "cell_type": "code",
      "metadata": {
        "id": "h41iiC7Xkrna"
      },
      "source": [
        "#@title Do you want to increase brightness of photos of persons of African descent by 26% ?\n",
        "\n",
        "\n",
        "increase_brightness = \"No\"  #@param ['Yes', 'No']\n",
        "\n"
      ],
      "execution_count": null,
      "outputs": []
    },
    {
      "cell_type": "code",
      "metadata": {
        "id": "q7tcZAjUyIgi"
      },
      "source": [
        "# This will increase the brightness of all images of people of African descent, by 26%\n",
        "# Don't run this cell if you want to see how the original dataset looks.\n",
        "from PIL import Image, ImageEnhance\n",
        "import os\n",
        "import cv2\n",
        "from google.colab.patches import cv2_imshow\n",
        "\n",
        "directory = '/content/UTKFace/'\n",
        "\n",
        "for file in os.listdir(directory):\n",
        "  \n",
        "  if str(file)[-32] == '1' and increase_brightness=='Yes':\n",
        "\n",
        "    print(file)\n",
        "  \n",
        "    im = Image.open(r\"/content/UTKFace/\" + file)\n",
        "\n",
        "    im3 = ImageEnhance.Brightness(im)\n",
        "    im3.enhance(1.26).save(\"/content/UTKFace/\" + file)"
      ],
      "execution_count": null,
      "outputs": []
    },
    {
      "cell_type": "code",
      "metadata": {
        "id": "zO2klXbdxjVZ",
        "colab": {
          "base_uri": "https://localhost:8080/"
        },
        "outputId": "204f3f72-8897-42ba-b1b2-a4001591a85a"
      },
      "source": [
        "import os\n",
        "from skimage import io\n",
        "import numpy as np\n",
        "\n",
        "directory = \"/content/UTKFace/\"\n",
        "\n",
        "white_mean_tot = 0\n",
        "black_mean_tot = 0\n",
        "asian_mean_tot = 0\n",
        "indian_mean_tot = 0\n",
        "other_mean_tot = 0\n",
        "\n",
        "white_img_count = 0\n",
        "black_img_count = 0\n",
        "asian_img_count = 0\n",
        "indian_img_count = 0\n",
        "other_img_count = 0\n",
        "\n",
        "white_mean_list = []\n",
        "black_mean_list = []\n",
        "asian_mean_list = []\n",
        "indian_mean_list = []\n",
        "other_mean_list = []\n",
        "\n",
        "for file in os.listdir(directory):\n",
        "    image = io.imread(\"/content/UTKFace/\" + file)\n",
        "    image_mean = np.mean(image)\n",
        "\n",
        "    if str(file)[-32] == '0':\n",
        "      \n",
        "      white_mean_tot = white_mean_tot + image_mean\n",
        "      white_img_count = white_img_count + 1\n",
        "      white_mean_list.append(int(image_mean))\n",
        "    \n",
        "    if str(file)[-32] == '1':\n",
        "      black_mean_tot = black_mean_tot + image_mean\n",
        "      black_img_count = black_img_count + 1\n",
        "      black_mean_list.append(int(image_mean))\n",
        "\n",
        "    if str(file)[-32] == '2':\n",
        "      asian_mean_tot = asian_mean_tot + image_mean\n",
        "      asian_img_count = asian_img_count + 1\n",
        "      asian_mean_list.append(int(image_mean))\n",
        "\n",
        "    if str(file)[-32] == '3':\n",
        "      indian_mean_tot = indian_mean_tot + image_mean\n",
        "      indian_img_count = indian_img_count +1\n",
        "      indian_mean_list.append(int(image_mean))\n",
        "    \n",
        "    if str(file)[-32] == '4':\n",
        "      other_mean_tot = other_mean_tot + image_mean\n",
        "      other_img_count = other_img_count + 1\n",
        "      other_mean_list.append(int(image_mean))\n",
        "\n",
        "print(\"white_mean_tot\")\n",
        "print(white_mean_tot)\n",
        "print(\"black_mean_tot\")\n",
        "print(black_mean_tot)\n",
        "print(\"asian_mean_tot\")\n",
        "print(asian_mean_tot)\n",
        "print(\"indian_mean_tot\")\n",
        "print(indian_mean_tot)\n",
        "print(\"other_mean_tot\")\n",
        "print(other_mean_tot)\n"
      ],
      "execution_count": null,
      "outputs": [
        {
          "output_type": "stream",
          "name": "stdout",
          "text": [
            "white_mean_tot\n",
            "486114.2318500001\n",
            "black_mean_tot\n",
            "470636.58182500023\n",
            "asian_mean_tot\n",
            "464647.1501250005\n",
            "indian_mean_tot\n",
            "489218.6619499994\n",
            "other_mean_tot\n",
            "208556.58739999967\n"
          ]
        }
      ]
    },
    {
      "cell_type": "code",
      "metadata": {
        "id": "BeQpdx337XIX",
        "colab": {
          "base_uri": "https://localhost:8080/"
        },
        "outputId": "d01c09fa-faac-4a2c-ad37-d41b8707d78a"
      },
      "source": [
        "import pandas as pd\n",
        "\n",
        "df_list=[]\n",
        "\n",
        "for i in white_mean_list:\n",
        "  df_list.append([i,'white'])\n",
        "\n",
        "for i in black_mean_list:\n",
        "  df_list.append([i,'black'])\n",
        "\n",
        "for i in asian_mean_list:\n",
        "  df_list.append([i,'asian'])\n",
        "\n",
        "for i in indian_mean_list:\n",
        "  df_list.append([i,'indian'])\n",
        "\n",
        "for i in other_mean_list:\n",
        "  df_list.append([i,'other'])\n",
        "\n",
        "df = pd.DataFrame(df_list, columns=['px_vals','Color'])\n",
        "\n",
        "print(df)\n",
        "\n"
      ],
      "execution_count": null,
      "outputs": [
        {
          "output_type": "stream",
          "name": "stdout",
          "text": [
            "       px_vals  Color\n",
            "0          109  white\n",
            "1          111  white\n",
            "2          125  white\n",
            "3           93  white\n",
            "4          147  white\n",
            "...        ...    ...\n",
            "17291      103  other\n",
            "17292      148  other\n",
            "17293       97  other\n",
            "17294       87  other\n",
            "17295      144  other\n",
            "\n",
            "[17296 rows x 2 columns]\n"
          ]
        }
      ]
    },
    {
      "cell_type": "code",
      "metadata": {
        "id": "B1ERIFy16vvV"
      },
      "source": [
        "import seaborn as sns"
      ],
      "execution_count": null,
      "outputs": []
    },
    {
      "cell_type": "code",
      "metadata": {
        "id": "wFuxaySu6-bH",
        "colab": {
          "base_uri": "https://localhost:8080/",
          "height": 387
        },
        "outputId": "704fd547-24a4-4588-aca9-d049868f1a27"
      },
      "source": [
        "sns.displot(df, x=\"px_vals\", hue=\"Color\",kind=\"kde\", bw_adjust=2,fill=True)"
      ],
      "execution_count": null,
      "outputs": [
        {
          "output_type": "execute_result",
          "data": {
            "text/plain": [
              "<seaborn.axisgrid.FacetGrid at 0x7f5c1f29db10>"
            ]
          },
          "metadata": {},
          "execution_count": 11
        },
        {
          "output_type": "display_data",
          "data": {
            "image/png": "[encoded data removed]",
            "text/plain": [
              "<Figure size 427x360 with 1 Axes>"
            ]
          },
          "metadata": {
            "needs_background": "light"
          }
        }
      ]
    },
    {
      "cell_type": "code",
      "metadata": {
        "id": "EUUYX3OUBxXr",
        "colab": {
          "base_uri": "https://localhost:8080/",
          "height": 387
        },
        "outputId": "1e1739b0-3cf6-4900-f27e-5752b437bd64"
      },
      "source": [
        "sns.displot(df, x=\"px_vals\", hue=\"Color\", stat=\"density\",element=\"step\",common_norm=False,)"
      ],
      "execution_count": null,
      "outputs": [
        {
          "output_type": "execute_result",
          "data": {
            "text/plain": [
              "<seaborn.axisgrid.FacetGrid at 0x7f5c095f12d0>"
            ]
          },
          "metadata": {},
          "execution_count": 12
        },
        {
          "output_type": "display_data",
          "data": {
            "image/png": "[encoded data removed]",
            "text/plain": [
              "<Figure size 427x360 with 1 Axes>"
            ]
          },
          "metadata": {
            "needs_background": "light"
          }
        }
      ]
    },
    {
      "cell_type": "code",
      "metadata": {
        "id": "YwFD9SSeHCAb",
        "colab": {
          "base_uri": "https://localhost:8080/",
          "height": 305
        },
        "outputId": "2c2f45ba-3855-4023-fcbe-cc2f0caf9b08"
      },
      "source": [
        "sns.set_theme(style=\"ticks\")\n",
        "\n",
        "# Draw a nested boxplot to show bills by day and time\n",
        "sns.boxplot(x=\"Color\", y=\"px_vals\",\n",
        "            data=df)\n",
        "sns.despine(offset=20, trim=False)"
      ],
      "execution_count": null,
      "outputs": [
        {
          "output_type": "display_data",
          "data": {
            "image/png": "[encoded data removed]",
            "text/plain": [
              "<Figure size 432x288 with 1 Axes>"
            ]
          },
          "metadata": {}
        }
      ]
    },
    {
      "cell_type": "code",
      "metadata": {
        "id": "LGvT673d0YKN",
        "colab": {
          "base_uri": "https://localhost:8080/"
        },
        "outputId": "af055301-d808-45a8-a69e-f870a0de84a7"
      },
      "source": [
        "all_pixel_averages = white_mean_tot + black_mean_tot + asian_mean_tot + indian_mean_tot + other_mean_tot\n",
        "\n",
        "print(\"white %\")\n",
        "print(white_mean_tot/all_pixel_averages)\n",
        "print(\"black %\")\n",
        "print(black_mean_tot/all_pixel_averages)\n",
        "print(\"asian %\")\n",
        "print(asian_mean_tot/all_pixel_averages)\n",
        "print(\"indian %\")\n",
        "print(indian_mean_tot/all_pixel_averages)\n",
        "print(\"other %\")\n",
        "print(other_mean_tot/all_pixel_averages)"
      ],
      "execution_count": null,
      "outputs": [
        {
          "output_type": "stream",
          "name": "stdout",
          "text": [
            "white %\n",
            "0.2293886261083047\n",
            "black %\n",
            "0.2220849994255224\n",
            "asian %\n",
            "0.21925869355168734\n",
            "indian %\n",
            "0.23085355124077406\n",
            "other %\n",
            "0.09841412967371135\n"
          ]
        }
      ]
    },
    {
      "cell_type": "code",
      "metadata": {
        "id": "1ulFv9Ql1s37",
        "colab": {
          "base_uri": "https://localhost:8080/"
        },
        "outputId": "ddf667d9-7e69-4ed9-87e1-98515a23328f"
      },
      "source": [
        "print('white average pixel average')\n",
        "print(white_mean_tot/white_img_count)\n",
        "print('black average pixel average')\n",
        "print(black_mean_tot/black_img_count)\n",
        "print('asian average pixel average')\n",
        "print(asian_mean_tot/asian_img_count)\n",
        "print('indian average pixel average')\n",
        "print(indian_mean_tot/indian_img_count)\n",
        "print('other average pixel average')\n",
        "print(other_mean_tot/other_img_count)\n"
      ],
      "execution_count": null,
      "outputs": [
        {
          "output_type": "stream",
          "name": "stdout",
          "text": [
            "white average pixel average\n",
            "132.492295407468\n",
            "black average pixel average\n",
            "103.96213426662254\n",
            "asian average pixel average\n",
            "135.34726190649593\n",
            "indian average pixel average\n",
            "123.07387722012564\n",
            "other average pixel average\n",
            "123.26039444444424\n"
          ]
        }
      ]
    },
    {
      "cell_type": "markdown",
      "metadata": {
        "id": "mYenR_cibPts"
      },
      "source": [
        "#Results:\n",
        "\n",
        "*   White images are on average 132 (avg pixel value)\n",
        "\n",
        "*   Asian images have an average pixel brightness of 135\n",
        "\n",
        "*   Indian images have an average pixel brightness of 123\n",
        "\n",
        "*   Other images have an average pixel brightness of 123\n",
        "\n",
        "*   Black images have an average pixel brightness of 103\n",
        "\n",
        "\n",
        "\n",
        "#Percentage Difference:\n",
        "Using White as a baseline:\n",
        "\n",
        "*   Asian is + 2%\n",
        "\n",
        "*   Indian is - 7%\n",
        "\n",
        "*   Other is - 7%\n",
        "\n",
        "*   Black is - 22%\n",
        "\n",
        "\n",
        "Faces in the 'Black' category are 22% darker than White faces, and 15% darker than their nearest neighbors, Indian and Other.  Training using this dataset is likely to lead to bias, as the model will be well-trained on the lighter images and poorly trained on the images of persons of African descent."
      ]
    },
    {
      "cell_type": "markdown",
      "metadata": {
        "id": "qCpr1lsVBmRh"
      },
      "source": [
        "UTK Face Dataset: http://aicip.eecs.utk.edu/wiki/UTKFace"
      ]
    }
  ]
}
